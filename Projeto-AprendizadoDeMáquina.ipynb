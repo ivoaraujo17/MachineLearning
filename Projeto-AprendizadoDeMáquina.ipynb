{
 "cells": [
  {
   "cell_type": "code",
   "execution_count": 1,
   "metadata": {},
   "outputs": [],
   "source": [
    "#Importação do pacote pandas para tratar os dados\n",
    "import pandas as pd"
   ]
  },
  {
   "cell_type": "code",
   "execution_count": 2,
   "metadata": {},
   "outputs": [
    {
     "data": {
      "text/html": [
       "<div>\n",
       "<style scoped>\n",
       "    .dataframe tbody tr th:only-of-type {\n",
       "        vertical-align: middle;\n",
       "    }\n",
       "\n",
       "    .dataframe tbody tr th {\n",
       "        vertical-align: top;\n",
       "    }\n",
       "\n",
       "    .dataframe thead th {\n",
       "        text-align: right;\n",
       "    }\n",
       "</style>\n",
       "<table border=\"1\" class=\"dataframe\">\n",
       "  <thead>\n",
       "    <tr style=\"text-align: right;\">\n",
       "      <th></th>\n",
       "      <th>Unnamed: 0</th>\n",
       "      <th>IDCliente</th>\n",
       "      <th>Genero</th>\n",
       "      <th>Aposentado</th>\n",
       "      <th>Casado</th>\n",
       "      <th>Dependentes</th>\n",
       "      <th>MesesComoCliente</th>\n",
       "      <th>ServicoTelefone</th>\n",
       "      <th>MultiplasLinhas</th>\n",
       "      <th>ServicoInternet</th>\n",
       "      <th>...</th>\n",
       "      <th>ServicoSuporteTecnico</th>\n",
       "      <th>ServicoStreamingTV</th>\n",
       "      <th>ServicoFilmes</th>\n",
       "      <th>TipoContrato</th>\n",
       "      <th>FaturaDigital</th>\n",
       "      <th>FormaPagamento</th>\n",
       "      <th>ValorMensal</th>\n",
       "      <th>TotalGasto</th>\n",
       "      <th>Churn</th>\n",
       "      <th>Codigo</th>\n",
       "    </tr>\n",
       "  </thead>\n",
       "  <tbody>\n",
       "    <tr>\n",
       "      <th>0</th>\n",
       "      <td>1869</td>\n",
       "      <td>7010-BRBUU</td>\n",
       "      <td>Masculino</td>\n",
       "      <td>0</td>\n",
       "      <td>Sim</td>\n",
       "      <td>Sim</td>\n",
       "      <td>72</td>\n",
       "      <td>Sim</td>\n",
       "      <td>Sim</td>\n",
       "      <td>Nao</td>\n",
       "      <td>...</td>\n",
       "      <td>SemInternet</td>\n",
       "      <td>SemInternet</td>\n",
       "      <td>SemInternet</td>\n",
       "      <td>2 anos</td>\n",
       "      <td>Nao</td>\n",
       "      <td>CartaoCredito</td>\n",
       "      <td>24.10</td>\n",
       "      <td>1734.65</td>\n",
       "      <td>Nao</td>\n",
       "      <td>NaN</td>\n",
       "    </tr>\n",
       "    <tr>\n",
       "      <th>1</th>\n",
       "      <td>4528</td>\n",
       "      <td>9688-YGXVR</td>\n",
       "      <td>Feminino</td>\n",
       "      <td>0</td>\n",
       "      <td>Nao</td>\n",
       "      <td>Nao</td>\n",
       "      <td>44</td>\n",
       "      <td>Sim</td>\n",
       "      <td>Nao</td>\n",
       "      <td>Fibra</td>\n",
       "      <td>...</td>\n",
       "      <td>Nao</td>\n",
       "      <td>Sim</td>\n",
       "      <td>Nao</td>\n",
       "      <td>Mensal</td>\n",
       "      <td>Sim</td>\n",
       "      <td>CartaoCredito</td>\n",
       "      <td>88.15</td>\n",
       "      <td>3973.2</td>\n",
       "      <td>Nao</td>\n",
       "      <td>NaN</td>\n",
       "    </tr>\n",
       "    <tr>\n",
       "      <th>2</th>\n",
       "      <td>6344</td>\n",
       "      <td>9286-DOJGF</td>\n",
       "      <td>Feminino</td>\n",
       "      <td>1</td>\n",
       "      <td>Sim</td>\n",
       "      <td>Nao</td>\n",
       "      <td>38</td>\n",
       "      <td>Sim</td>\n",
       "      <td>Sim</td>\n",
       "      <td>Fibra</td>\n",
       "      <td>...</td>\n",
       "      <td>Nao</td>\n",
       "      <td>Nao</td>\n",
       "      <td>Nao</td>\n",
       "      <td>Mensal</td>\n",
       "      <td>Sim</td>\n",
       "      <td>DebitoAutomatico</td>\n",
       "      <td>74.95</td>\n",
       "      <td>2869.85</td>\n",
       "      <td>Sim</td>\n",
       "      <td>NaN</td>\n",
       "    </tr>\n",
       "    <tr>\n",
       "      <th>3</th>\n",
       "      <td>6739</td>\n",
       "      <td>6994-KERXL</td>\n",
       "      <td>Masculino</td>\n",
       "      <td>0</td>\n",
       "      <td>Nao</td>\n",
       "      <td>Nao</td>\n",
       "      <td>4</td>\n",
       "      <td>Sim</td>\n",
       "      <td>Nao</td>\n",
       "      <td>DSL</td>\n",
       "      <td>...</td>\n",
       "      <td>Nao</td>\n",
       "      <td>Nao</td>\n",
       "      <td>Sim</td>\n",
       "      <td>Mensal</td>\n",
       "      <td>Sim</td>\n",
       "      <td>BoletoEletronico</td>\n",
       "      <td>55.90</td>\n",
       "      <td>238.5</td>\n",
       "      <td>Nao</td>\n",
       "      <td>NaN</td>\n",
       "    </tr>\n",
       "    <tr>\n",
       "      <th>4</th>\n",
       "      <td>432</td>\n",
       "      <td>2181-UAESM</td>\n",
       "      <td>Masculino</td>\n",
       "      <td>0</td>\n",
       "      <td>Nao</td>\n",
       "      <td>Nao</td>\n",
       "      <td>2</td>\n",
       "      <td>Sim</td>\n",
       "      <td>Nao</td>\n",
       "      <td>DSL</td>\n",
       "      <td>...</td>\n",
       "      <td>Nao</td>\n",
       "      <td>Nao</td>\n",
       "      <td>Nao</td>\n",
       "      <td>Mensal</td>\n",
       "      <td>Nao</td>\n",
       "      <td>BoletoEletronico</td>\n",
       "      <td>53.45</td>\n",
       "      <td>119.5</td>\n",
       "      <td>Nao</td>\n",
       "      <td>NaN</td>\n",
       "    </tr>\n",
       "  </tbody>\n",
       "</table>\n",
       "<p>5 rows × 23 columns</p>\n",
       "</div>"
      ],
      "text/plain": [
       "   Unnamed: 0   IDCliente     Genero  Aposentado Casado Dependentes  \\\n",
       "0        1869  7010-BRBUU  Masculino           0    Sim         Sim   \n",
       "1        4528  9688-YGXVR   Feminino           0    Nao         Nao   \n",
       "2        6344  9286-DOJGF   Feminino           1    Sim         Nao   \n",
       "3        6739  6994-KERXL  Masculino           0    Nao         Nao   \n",
       "4         432  2181-UAESM  Masculino           0    Nao         Nao   \n",
       "\n",
       "   MesesComoCliente ServicoTelefone MultiplasLinhas ServicoInternet  ...  \\\n",
       "0                72             Sim             Sim             Nao  ...   \n",
       "1                44             Sim             Nao           Fibra  ...   \n",
       "2                38             Sim             Sim           Fibra  ...   \n",
       "3                 4             Sim             Nao             DSL  ...   \n",
       "4                 2             Sim             Nao             DSL  ...   \n",
       "\n",
       "  ServicoSuporteTecnico ServicoStreamingTV ServicoFilmes TipoContrato  \\\n",
       "0           SemInternet        SemInternet   SemInternet       2 anos   \n",
       "1                   Nao                Sim           Nao       Mensal   \n",
       "2                   Nao                Nao           Nao       Mensal   \n",
       "3                   Nao                Nao           Sim       Mensal   \n",
       "4                   Nao                Nao           Nao       Mensal   \n",
       "\n",
       "  FaturaDigital    FormaPagamento ValorMensal TotalGasto Churn  Codigo  \n",
       "0           Nao     CartaoCredito       24.10    1734.65   Nao     NaN  \n",
       "1           Sim     CartaoCredito       88.15     3973.2   Nao     NaN  \n",
       "2           Sim  DebitoAutomatico       74.95    2869.85   Sim     NaN  \n",
       "3           Sim  BoletoEletronico       55.90      238.5   Nao     NaN  \n",
       "4           Nao  BoletoEletronico       53.45      119.5   Nao     NaN  \n",
       "\n",
       "[5 rows x 23 columns]"
      ]
     },
     "execution_count": 2,
     "metadata": {},
     "output_type": "execute_result"
    }
   ],
   "source": [
    "#Carregando o Arquivo csv e transformando em um dataframe e exibindo-o\n",
    "df = pd.read_csv('telecom_users.csv')\n",
    "df.head()"
   ]
  },
  {
   "cell_type": "code",
   "execution_count": 3,
   "metadata": {},
   "outputs": [],
   "source": [
    "# Deletando as colunas desnecessárias através do método drop do dataframe\n",
    "df = df.drop(labels=['Unnamed: 0', 'IDCliente', 'Codigo'], axis=1)"
   ]
  },
  {
   "cell_type": "code",
   "execution_count": 4,
   "metadata": {},
   "outputs": [],
   "source": [
    "#Transformando as variáveis categoricas do tipo texto em númerico\n",
    "\n",
    "#Masculino, sim, fibra, anual e boleto eletronico será 1\n",
    "df = df.replace(['Masculino','Sim', 'Fibra', 'Anual', 'BoletoEletronico'], 1)\n",
    "\n",
    "#Feminino, não, sem internet, sem telefone, mensal e boleto impresso será 0\n",
    "df = df.replace(['Feminino','Nao','SemInternet', 'SemTelefone', 'Mensal', 'BoletoImpresso'], 0)\n",
    "\n",
    "#Dsl, 2 anos, debito automatico será 2\n",
    "df = df.replace(['DSL', '2 anos', 'DebitoAutomatico'],2)\n",
    "\n",
    "#cartao de credito será 3\n",
    "df = df.replace('CartaoCredito',3)"
   ]
  },
  {
   "cell_type": "code",
   "execution_count": 5,
   "metadata": {},
   "outputs": [],
   "source": [
    "#Substituindo o espaço com nada\n",
    "df = df.replace(' ',)\n",
    "\n",
    "#Excluindo as linhas que contém algum valor nulo\n",
    "df = df.dropna(axis=0, how='any')\n",
    "\n",
    "#Transformando a coluna total gasto para número\n",
    "df['TotalGasto'] = pd.to_numeric(df['TotalGasto'])"
   ]
  },
  {
   "cell_type": "code",
   "execution_count": 6,
   "metadata": {},
   "outputs": [
    {
     "data": {
      "text/plain": [
       "Genero                    False\n",
       "Aposentado                False\n",
       "Casado                    False\n",
       "Dependentes               False\n",
       "MesesComoCliente          False\n",
       "ServicoTelefone           False\n",
       "MultiplasLinhas           False\n",
       "ServicoInternet           False\n",
       "ServicoSegurancaOnline    False\n",
       "ServicoBackupOnline       False\n",
       "ProtecaoEquipamento       False\n",
       "ServicoSuporteTecnico     False\n",
       "ServicoStreamingTV        False\n",
       "ServicoFilmes             False\n",
       "TipoContrato              False\n",
       "FaturaDigital             False\n",
       "FormaPagamento            False\n",
       "ValorMensal               False\n",
       "TotalGasto                False\n",
       "Churn                     False\n",
       "dtype: bool"
      ]
     },
     "execution_count": 6,
     "metadata": {},
     "output_type": "execute_result"
    }
   ],
   "source": [
    "#Verificando se ainda tem algum valor nulo\n",
    "df.count().isnull()"
   ]
  },
  {
   "cell_type": "code",
   "execution_count": 7,
   "metadata": {},
   "outputs": [],
   "source": [
    "#Importando o pacote do sklearn para treinar o modelo\n",
    "from sklearn.tree import DecisionTreeClassifier\n",
    "from sklearn.model_selection import train_test_split"
   ]
  },
  {
   "cell_type": "code",
   "execution_count": 8,
   "metadata": {},
   "outputs": [],
   "source": [
    "#Instaciando o pacote a variavel\n",
    "modelo = DecisionTreeClassifier()"
   ]
  },
  {
   "cell_type": "code",
   "execution_count": 9,
   "metadata": {},
   "outputs": [],
   "source": [
    "#Defindo os dados de x e y, x vai ser todas as colunas menos a \"Churn\", e y será a coluna \"Churn\"\n",
    "x = df.drop('Churn', axis=1)\n",
    "y = df['Churn']"
   ]
  },
  {
   "cell_type": "code",
   "execution_count": 10,
   "metadata": {},
   "outputs": [],
   "source": [
    "#Dividindo os dados em treino e teste através do método train_test_split\n",
    "x_train, x_test, y_train, y_test = train_test_split(x,y)"
   ]
  },
  {
   "cell_type": "code",
   "execution_count": 11,
   "metadata": {},
   "outputs": [
    {
     "data": {
      "text/plain": [
       "DecisionTreeClassifier()"
      ]
     },
     "execution_count": 11,
     "metadata": {},
     "output_type": "execute_result"
    }
   ],
   "source": [
    "#Treinando o modelo com os dados de treino\n",
    "modelo.fit(x_train,y_train)"
   ]
  },
  {
   "cell_type": "code",
   "execution_count": 12,
   "metadata": {},
   "outputs": [],
   "source": [
    "#Testando o modelo passando os dados de teste, e atribuindo as previsões a variavel previsao\n",
    "Previsao = modelo.predict(x_test)"
   ]
  },
  {
   "cell_type": "code",
   "execution_count": 13,
   "metadata": {},
   "outputs": [
    {
     "data": {
      "text/plain": [
       "<sklearn.metrics._plot.confusion_matrix.ConfusionMatrixDisplay at 0x27ce25e01f0>"
      ]
     },
     "execution_count": 13,
     "metadata": {},
     "output_type": "execute_result"
    },
    {
     "data": {
      "image/png": "[encoded data removed]",
      "text/plain": [
       "<Figure size 432x288 with 2 Axes>"
      ]
     },
     "metadata": {
      "needs_background": "light"
     },
     "output_type": "display_data"
    }
   ],
   "source": [
    "#Importando a função para verificar visualizar os dados e as previsão do modelo\n",
    "from sklearn.metrics import plot_confusion_matrix\n",
    "plot_confusion_matrix(modelo, x_test, y_test, cmap='Blues')"
   ]
  },
  {
   "cell_type": "markdown",
   "metadata": {},
   "source": [
    "####    No eixo x temos os dados da previsão do modelo, e no y os dados de teste\n",
    "####    O modelo preveu que 1119 pessoas nao iria cancelar o serviço, e segundo os dados, 1114 não cancelou\n",
    "####    o serviço\n",
    "####    o modelo preveu que 377 pessoas iria cancelar o serviço, e segundo os dados, 382 cancelou o serviço"
   ]
  },
  {
   "cell_type": "code",
   "execution_count": 16,
   "metadata": {},
   "outputs": [
    {
     "data": {
      "text/plain": [
       "0.7252673796791443"
      ]
     },
     "execution_count": 16,
     "metadata": {},
     "output_type": "execute_result"
    }
   ],
   "source": [
    "#Importando a função pra verificar acurácia do modelo\n",
    "from sklearn.metrics import accuracy_score\n",
    "\n",
    "#Passando para a função o dados de y_teste\"O que realmente aconteceu\" e o dados previsto pelo modelo\n",
    "accuracy_score(y_test,Previsao)"
   ]
  },
  {
   "cell_type": "markdown",
   "metadata": {},
   "source": [
    "#### Obteve-se uma precisão de 72%"
   ]
  }
 ],
 "metadata": {
  "interpreter": {
   "hash": "ec44faccf4ebf7f4969bf022d67cabe89d04f6f360d20f5c2225625e8a089698"
  },
  "kernelspec": {
   "display_name": "Python 3",
   "language": "python",
   "name": "python3"
  },
  "language_info": {
   "codemirror_mode": {
    "name": "ipython",
    "version": 3
   },
   "file_extension": ".py",
   "mimetype": "text/x-python",
   "name": "python",
   "nbconvert_exporter": "python",
   "pygments_lexer": "ipython3",
   "version": "3.8.8"
  },
  "varInspector": {
   "cols": {
    "lenName": 16,
    "lenType": 16,
    "lenVar": 40
   },
   "kernels_config": {
    "python": {
     "delete_cmd_postfix": "",
     "delete_cmd_prefix": "del ",
     "library": "var_list.py",
     "varRefreshCmd": "print(var_dic_list())"
    },
    "r": {
     "delete_cmd_postfix": ") ",
     "delete_cmd_prefix": "rm(",
     "library": "var_list.r",
     "varRefreshCmd": "cat(var_dic_list()) "
    }
   },
   "types_to_exclude": [
    "module",
    "function",
    "builtin_function_or_method",
    "instance",
    "_Feature"
   ],
   "window_display": false
  }
 },
 "nbformat": 4,
 "nbformat_minor": 4
}
